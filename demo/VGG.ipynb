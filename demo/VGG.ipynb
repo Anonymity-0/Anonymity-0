{
  "nbformat": 4,
  "nbformat_minor": 0,
  "metadata": {
    "colab": {
      "provenance": [],
      "authorship_tag": "ABX9TyPAMjSJK7RxY/+73zactBIN",
      "include_colab_link": true
    },
    "kernelspec": {
      "name": "python3",
      "display_name": "Python 3"
    },
    "language_info": {
      "name": "python"
    }
  },
  "cells": [
    {
      "cell_type": "markdown",
      "metadata": {
        "id": "view-in-github",
        "colab_type": "text"
      },
      "source": [
        "<a href=\"https://colab.research.google.com/github/Anonymity-0/Anonymity-0/blob/main/demo/VGG.ipynb\" target=\"_parent\"><img src=\"https://colab.research.google.com/assets/colab-badge.svg\" alt=\"Open In Colab\"/></a>"
      ]
    },
    {
      "cell_type": "markdown",
      "source": [
        "感受野：通俗的解释是上一个单元输入层上的区域大小"
      ],
      "metadata": {
        "id": "ySWFXpn4obLU"
      }
    },
    {
      "cell_type": "markdown",
      "source": [
        "[![pp8K236.jpg](https://s1.ax1x.com/2023/03/16/pp8K236.jpg)](https://imgse.com/i/pp8K236)\n",
        "[![pp8MF2V.jpg](https://s1.ax1x.com/2023/03/16/pp8MF2V.jpg)](https://imgse.com/i/pp8MF2V)\n",
        "[![pp8QLnS.jpg](https://s1.ax1x.com/2023/03/16/pp8QLnS.jpg)](https://imgse.com/i/pp8QLnS)"
      ],
      "metadata": {
        "id": "jxdlt52tn2UY"
      }
    },
    {
      "cell_type": "markdown",
      "source": [
        "\n",
        "[![pp8Qxts.jpg](https://s1.ax1x.com/2023/03/16/pp8Qxts.jpg)](https://imgse.com/i/pp8Qxts)\n",
        "\n"
      ],
      "metadata": {
        "id": "CIyewwKzrxbV"
      }
    },
    {
      "cell_type": "code",
      "execution_count": null,
      "metadata": {
        "id": "XGIN3IglmGg2"
      },
      "outputs": [],
      "source": []
    }
  ]
}